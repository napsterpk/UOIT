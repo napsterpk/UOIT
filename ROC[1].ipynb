{
  "nbformat": 4,
  "nbformat_minor": 0,
  "metadata": {
    "accelerator": "GPU",
    "colab": {
      "name": "ROC[1].ipynb",
      "provenance": [],
      "collapsed_sections": [],
      "machine_shape": "hm",
      "include_colab_link": true
    },
    "kernelspec": {
      "display_name": "Python 3",
      "language": "python",
      "name": "python3"
    },
    "language_info": {
      "codemirror_mode": {
        "name": "ipython",
        "version": 3
      },
      "file_extension": ".py",
      "mimetype": "text/x-python",
      "name": "python",
      "nbconvert_exporter": "python",
      "pygments_lexer": "ipython3",
      "version": "3.8.0"
    }
  },
  "cells": [
    {
      "cell_type": "markdown",
      "metadata": {
        "id": "view-in-github",
        "colab_type": "text"
      },
      "source": [
        "<a href=\"https://colab.research.google.com/github/napsterpk/UOIT/blob/master/ROC%5B1%5D.ipynb\" target=\"_parent\"><img src=\"https://colab.research.google.com/assets/colab-badge.svg\" alt=\"Open In Colab\"/></a>"
      ]
    },
    {
      "cell_type": "code",
      "metadata": {
        "colab": {
          "base_uri": "https://localhost:8080/"
        },
        "id": "jBPhTfBlBEcY",
        "outputId": "538d4104-e7ba-4c82-976c-3d6a073bfed7"
      },
      "source": [
        "from google.colab import drive\n",
        "drive.mount('/content/drive/')"
      ],
      "execution_count": null,
      "outputs": [
        {
          "output_type": "stream",
          "name": "stdout",
          "text": [
            "Drive already mounted at /content/drive/; to attempt to forcibly remount, call drive.mount(\"/content/drive/\", force_remount=True).\n"
          ]
        }
      ]
    },
    {
      "cell_type": "code",
      "metadata": {
        "id": "Xm1RD26E-GP_"
      },
      "source": [
        "import sys\n",
        "import sklearn\n",
        "import pandas as pd\n",
        "import numpy as np\n",
        "from sklearn.preprocessing import OneHotEncoder, StandardScaler\n",
        "from sklearn.preprocessing import MinMaxScaler\n",
        "from sklearn.metrics import confusion_matrix\n",
        "from sklearn.metrics import classification_report\n",
        "from sklearn.model_selection import train_test_split\n",
        "from tensorflow import keras\n",
        "from tensorflow.keras import layers\n",
        "import tensorflow as tf\n",
        "import matplotlib.pyplot as plt\n",
        "from keras.layers import Input, Dropout, Dense, LSTM, TimeDistributed, RepeatVector\n",
        "from keras import regularizers\n",
        "from keras.models import Model\n",
        "from keras.models import Sequential\n",
        "from keras.layers import LSTM\n",
        "from numpy import array"
      ],
      "execution_count": null,
      "outputs": []
    },
    {
      "cell_type": "code",
      "metadata": {
        "id": "AMPdKBU7BIyE",
        "colab": {
          "base_uri": "https://localhost:8080/"
        },
        "outputId": "04b1dd38-78c9-41a5-c04d-299f7c4ef4b7"
      },
      "source": [
        "df=pd.read_parquet('/content/drive/My Drive/Colab Notebooks/Dataset/Dataset[S]/Dataset[6]/Dataset[3N].parquet', engine='pyarrow')\n",
        "\n",
        "\n",
        "print()\n",
        "print()\n",
        "print('Data Loaded Succesfully')\n",
        "print()\n",
        "print()"
      ],
      "execution_count": null,
      "outputs": [
        {
          "output_type": "stream",
          "name": "stdout",
          "text": [
            "\n",
            "\n",
            "Data Loaded Succesfully\n",
            "\n",
            "\n"
          ]
        }
      ]
    },
    {
      "cell_type": "code",
      "metadata": {
        "colab": {
          "base_uri": "https://localhost:8080/"
        },
        "id": "Uqc8_tFhN32X",
        "outputId": "c1ae3681-988a-41f7-dc83-bb4545893120"
      },
      "source": [
        "#print(df[['Label', 'Cat']].groupby(['Label', 'Cat']).size())\n",
        "print()\n",
        "print()\n",
        "df.columns"
      ],
      "execution_count": null,
      "outputs": [
        {
          "output_type": "stream",
          "name": "stdout",
          "text": [
            "\n",
            "\n"
          ]
        },
        {
          "output_type": "execute_result",
          "data": {
            "text/plain": [
              "Index(['Flow_ID', 'Src_IP', 'Src_Port', 'Dst_IP', 'Dst_Port', 'Protocol',\n",
              "       'Timestamp', 'Flow_Duration', 'Tot_Fwd_Pkts', 'Tot_Bwd_Pkts',\n",
              "       'TotLen_Fwd_Pkts', 'TotLen_Bwd_Pkts', 'Fwd_Pkt_Len_Max',\n",
              "       'Fwd_Pkt_Len_Min', 'Fwd_Pkt_Len_Mean', 'Fwd_Pkt_Len_Std',\n",
              "       'Bwd_Pkt_Len_Max', 'Bwd_Pkt_Len_Min', 'Bwd_Pkt_Len_Mean',\n",
              "       'Bwd_Pkt_Len_Std', 'Flow_Byts/s', 'Flow_Pkts/s', 'Flow_IAT_Mean',\n",
              "       'Flow_IAT_Std', 'Flow_IAT_Max', 'Flow_IAT_Min', 'Fwd_IAT_Tot',\n",
              "       'Fwd_IAT_Mean', 'Fwd_IAT_Std', 'Fwd_IAT_Max', 'Fwd_IAT_Min',\n",
              "       'Bwd_IAT_Tot', 'Bwd_IAT_Mean', 'Bwd_IAT_Std', 'Bwd_IAT_Max',\n",
              "       'Bwd_IAT_Min', 'Fwd_PSH_Flags', 'Bwd_PSH_Flags', 'Fwd_URG_Flags',\n",
              "       'Bwd_URG_Flags', 'Fwd_Header_Len', 'Bwd_Header_Len', 'Fwd_Pkts/s',\n",
              "       'Bwd_Pkts/s', 'Pkt_Len_Min', 'Pkt_Len_Max', 'Pkt_Len_Mean',\n",
              "       'Pkt_Len_Std', 'Pkt_Len_Var', 'FIN_Flag_Cnt', 'SYN_Flag_Cnt',\n",
              "       'RST_Flag_Cnt', 'PSH_Flag_Cnt', 'ACK_Flag_Cnt', 'URG_Flag_Cnt',\n",
              "       'CWE_Flag_Count', 'ECE_Flag_Cnt', 'Down/Up_Ratio', 'Pkt_Size_Avg',\n",
              "       'Fwd_Seg_Size_Avg', 'Bwd_Seg_Size_Avg', 'Fwd_Byts/b_Avg',\n",
              "       'Fwd_Pkts/b_Avg', 'Fwd_Blk_Rate_Avg', 'Bwd_Byts/b_Avg',\n",
              "       'Bwd_Pkts/b_Avg', 'Bwd_Blk_Rate_Avg', 'Subflow_Fwd_Pkts',\n",
              "       'Subflow_Fwd_Byts', 'Subflow_Bwd_Pkts', 'Subflow_Bwd_Byts',\n",
              "       'Init_Fwd_Win_Byts', 'Init_Bwd_Win_Byts', 'Fwd_Act_Data_Pkts',\n",
              "       'Fwd_Seg_Size_Min', 'Active_Mean', 'Active_Std', 'Active_Max',\n",
              "       'Active_Min', 'Idle_Mean', 'Idle_Std', 'Idle_Max', 'Idle_Min', 'Label',\n",
              "       'Cat'],\n",
              "      dtype='object')"
            ]
          },
          "metadata": {},
          "execution_count": 4
        }
      ]
    },
    {
      "cell_type": "code",
      "metadata": {
        "colab": {
          "base_uri": "https://localhost:8080/"
        },
        "id": "Lcni90rRVvlJ",
        "outputId": "f602450b-15d0-465e-897b-e10cccb28f2d"
      },
      "source": [
        "df=df[['Src_Port', 'Dst_Port', 'Protocol', 'Timestamp', 'Flow_Duration','Tot_Fwd_Pkts', 'Tot_Bwd_Pkts', 'TotLen_Fwd_Pkts', 'TotLen_Bwd_Pkts','Fwd_Pkt_Len_Max', 'Fwd_Pkt_Len_Min', 'Fwd_Pkt_Len_Mean','Fwd_Pkt_Len_Std', \n",
        "       'Bwd_Pkt_Len_Max', 'Bwd_Pkt_Len_Min','Bwd_Pkt_Len_Mean', 'Flow_Byts/s', 'Flow_Pkts/s', 'Flow_IAT_Mean','Flow_IAT_Std', 'Flow_IAT_Max', 'Flow_IAT_Min', 'Fwd_IAT_Tot','Fwd_IAT_Mean', 'Fwd_IAT_Std', 'Fwd_IAT_Max', \n",
        "       'Fwd_IAT_Min','Bwd_IAT_Tot', 'Bwd_IAT_Mean', 'Bwd_IAT_Std', 'Bwd_IAT_Max','Bwd_IAT_Min', 'Fwd_PSH_Flags', 'Fwd_Header_Len', 'Bwd_Header_Len','Fwd_Pkts/s', 'Bwd_Pkts/s', 'Pkt_Len_Min', 'Pkt_Len_Max','Pkt_Len_Mean', \n",
        "       'Pkt_Len_Std', 'Pkt_Len_Var', 'FIN_Flag_Cnt','SYN_Flag_Cnt', 'RST_Flag_Cnt', 'PSH_Flag_Cnt', 'ACK_Flag_Cnt','Down/Up_Ratio', 'Pkt_Size_Avg', 'Fwd_Seg_Size_Avg', 'Bwd_Seg_Size_Avg', 'Bwd_Pkts/b_Avg', 'Bwd_Blk_Rate_Avg', \n",
        "       'Subflow_Fwd_Pkts','Subflow_Fwd_Byts', 'Subflow_Bwd_Byts', 'Init_Fwd_Win_Byts','Init_Bwd_Win_Byts', 'Fwd_Act_Data_Pkts', 'Fwd_Seg_Size_Min','Idle_Mean', 'Idle_Std', 'Idle_Max', 'Idle_Min','Label']]\n",
        "print(df.shape)"
      ],
      "execution_count": null,
      "outputs": [
        {
          "output_type": "stream",
          "name": "stdout",
          "text": [
            "(1431888, 65)\n"
          ]
        }
      ]
    },
    {
      "cell_type": "code",
      "metadata": {
        "colab": {
          "base_uri": "https://localhost:8080/"
        },
        "id": "B28H7NaSj3zv",
        "outputId": "10789e63-23db-4b4f-968f-bab5220de280"
      },
      "source": [
        "df.columns"
      ],
      "execution_count": null,
      "outputs": [
        {
          "output_type": "execute_result",
          "data": {
            "text/plain": [
              "Index(['Src_Port', 'Dst_Port', 'Protocol', 'Timestamp', 'Flow_Duration',\n",
              "       'Tot_Fwd_Pkts', 'Tot_Bwd_Pkts', 'TotLen_Fwd_Pkts', 'TotLen_Bwd_Pkts',\n",
              "       'Fwd_Pkt_Len_Max', 'Fwd_Pkt_Len_Min', 'Fwd_Pkt_Len_Mean',\n",
              "       'Fwd_Pkt_Len_Std', 'Bwd_Pkt_Len_Max', 'Bwd_Pkt_Len_Min',\n",
              "       'Bwd_Pkt_Len_Mean', 'Flow_Byts/s', 'Flow_Pkts/s', 'Flow_IAT_Mean',\n",
              "       'Flow_IAT_Std', 'Flow_IAT_Max', 'Flow_IAT_Min', 'Fwd_IAT_Tot',\n",
              "       'Fwd_IAT_Mean', 'Fwd_IAT_Std', 'Fwd_IAT_Max', 'Fwd_IAT_Min',\n",
              "       'Bwd_IAT_Tot', 'Bwd_IAT_Mean', 'Bwd_IAT_Std', 'Bwd_IAT_Max',\n",
              "       'Bwd_IAT_Min', 'Fwd_PSH_Flags', 'Fwd_Header_Len', 'Bwd_Header_Len',\n",
              "       'Fwd_Pkts/s', 'Bwd_Pkts/s', 'Pkt_Len_Min', 'Pkt_Len_Max',\n",
              "       'Pkt_Len_Mean', 'Pkt_Len_Std', 'Pkt_Len_Var', 'FIN_Flag_Cnt',\n",
              "       'SYN_Flag_Cnt', 'RST_Flag_Cnt', 'PSH_Flag_Cnt', 'ACK_Flag_Cnt',\n",
              "       'Down/Up_Ratio', 'Pkt_Size_Avg', 'Fwd_Seg_Size_Avg', 'Bwd_Seg_Size_Avg',\n",
              "       'Bwd_Pkts/b_Avg', 'Bwd_Blk_Rate_Avg', 'Subflow_Fwd_Pkts',\n",
              "       'Subflow_Fwd_Byts', 'Subflow_Bwd_Byts', 'Init_Fwd_Win_Byts',\n",
              "       'Init_Bwd_Win_Byts', 'Fwd_Act_Data_Pkts', 'Fwd_Seg_Size_Min',\n",
              "       'Idle_Mean', 'Idle_Std', 'Idle_Max', 'Idle_Min', 'Label'],\n",
              "      dtype='object')"
            ]
          },
          "metadata": {},
          "execution_count": 6
        }
      ]
    },
    {
      "cell_type": "code",
      "metadata": {
        "id": "Hk92oTMxixzM",
        "colab": {
          "base_uri": "https://localhost:8080/"
        },
        "outputId": "acf7c8f2-e8fb-4c34-803b-94d69ab12ff1"
      },
      "source": [
        "X = df.drop('Label',1)\n",
        "y = df.Label"
      ],
      "execution_count": null,
      "outputs": [
        {
          "output_type": "stream",
          "name": "stderr",
          "text": [
            "/usr/local/lib/python3.7/dist-packages/ipykernel_launcher.py:1: FutureWarning: In a future version of pandas all arguments of DataFrame.drop except for the argument 'labels' will be keyword-only\n",
            "  \"\"\"Entry point for launching an IPython kernel.\n"
          ]
        }
      ]
    },
    {
      "cell_type": "code",
      "metadata": {
        "id": "xHI98I-6e5m2"
      },
      "source": [
        "#from sklearn.preprocessing import label_binarize\n",
        "#y = label_binarize(y, classes=[0,1,2,3,4,5,6,7,8,9,10,11,12,13,14,15,16])"
      ],
      "execution_count": null,
      "outputs": []
    },
    {
      "cell_type": "code",
      "metadata": {
        "colab": {
          "base_uri": "https://localhost:8080/"
        },
        "id": "PZt8aykuix12",
        "outputId": "799cb509-0bb4-43d0-9faf-0cee5353467d"
      },
      "source": [
        "#print(df.columns)\n",
        "print()\n",
        "print()\n",
        "print(X.shape)"
      ],
      "execution_count": null,
      "outputs": [
        {
          "output_type": "stream",
          "name": "stdout",
          "text": [
            "\n",
            "\n",
            "(1431888, 64)\n"
          ]
        }
      ]
    },
    {
      "cell_type": "code",
      "metadata": {
        "id": "jEsWAUYo_xmw"
      },
      "source": [
        "x_train, x_test, y_train, y_test = train_test_split(X, y, test_size = 0.30, random_state = 0)"
      ],
      "execution_count": null,
      "outputs": []
    },
    {
      "cell_type": "code",
      "metadata": {
        "colab": {
          "base_uri": "https://localhost:8080/"
        },
        "id": "EW3GO2TKPaI-",
        "outputId": "289cb3f6-9dd5-4dc9-c5d3-3b3f22ac48e8"
      },
      "source": [
        "# Class weights for unbalanced classes\n",
        "u, indices = np.unique(y, return_counts=True)\n",
        "print()\n",
        "print('Label : ',u)\n",
        "print()\n",
        "print()\n",
        "print('Lable Instances : ',indices)\n",
        "print()\n",
        "print()\n",
        "print('Class Weight')\n",
        "print()\n",
        "class_weight = {}\n",
        "for a,b in zip(list(u),list(1/(indices/indices.max()+0.01))):\n",
        "    class_weight[a] = b\n",
        "print(class_weight)"
      ],
      "execution_count": null,
      "outputs": [
        {
          "output_type": "stream",
          "name": "stdout",
          "text": [
            "\n",
            "Label :  [0. 1.]\n",
            "\n",
            "\n",
            "Lable Instances :  [ 226451 1205437]\n",
            "\n",
            "\n",
            "Class Weight\n",
            "\n",
            "{0.0: 5.054129389204109, 1.0: 0.9900990099009901}\n"
          ]
        }
      ]
    },
    {
      "cell_type": "code",
      "metadata": {
        "colab": {
          "base_uri": "https://localhost:8080/"
        },
        "id": "HkyoqBGSbD9s",
        "outputId": "92681c33-abcc-4fd9-fc46-f851569e1547"
      },
      "source": [
        "x_train.shape"
      ],
      "execution_count": null,
      "outputs": [
        {
          "output_type": "execute_result",
          "data": {
            "text/plain": [
              "(1002321, 64)"
            ]
          },
          "metadata": {},
          "execution_count": 12
        }
      ]
    },
    {
      "cell_type": "code",
      "metadata": {
        "id": "wdhfc5CB_xmz",
        "colab": {
          "base_uri": "https://localhost:8080/"
        },
        "outputId": "e977cd0a-ea22-4af0-b05a-b4ae2de0f14a"
      },
      "source": [
        "# Feature scaling\n",
        "scaler = MinMaxScaler(feature_range=(0,1))\n",
        "scaler.fit(x_train)\n",
        "x_train = scaler.transform(x_train)\n",
        "x_test = scaler.transform(x_test)\n",
        "print(x_train.shape)"
      ],
      "execution_count": null,
      "outputs": [
        {
          "output_type": "stream",
          "name": "stdout",
          "text": [
            "(1002321, 64)\n"
          ]
        }
      ]
    },
    {
      "cell_type": "code",
      "metadata": {
        "colab": {
          "base_uri": "https://localhost:8080/"
        },
        "id": "zUxpdlMLsN0w",
        "outputId": "a9266dc6-2095-4491-c0e7-78b65c6d13c1"
      },
      "source": [
        "print(x_train.shape)\n",
        "print(x_test.shape)\n",
        "\n",
        "print(y_train.shape)\n",
        "print(y_test.shape)"
      ],
      "execution_count": null,
      "outputs": [
        {
          "output_type": "stream",
          "name": "stdout",
          "text": [
            "(1002321, 64)\n",
            "(429567, 64)\n",
            "(1002321,)\n",
            "(429567,)\n"
          ]
        }
      ]
    },
    {
      "cell_type": "code",
      "metadata": {
        "colab": {
          "base_uri": "https://localhost:8080/",
          "height": 264
        },
        "id": "whuzpNtv_xm1",
        "outputId": "03d4059c-eadd-40df-8ba0-d378a7af4b3b"
      },
      "source": [
        "# Feature scaling\n",
        "scaler = MinMaxScaler(feature_range=(0,1))\n",
        "scaler.fit(x_train)\n",
        "x_train = scaler.transform(x_train)\n",
        "x_test = scaler.transform(x_test)\n",
        "\n",
        "\n",
        "classes = np.unique(np.concatenate((y_train, y_test), axis=0))\n",
        "\n",
        "plt.figure()\n",
        "for c in classes:\n",
        "    c_x_train = x_train[y_train == c]\n",
        "    plt.plot(c_x_train[0], label=\"class \" + str(c))\n",
        "plt.legend(loc=\"best\")\n",
        "plt.show()\n",
        "plt.close()"
      ],
      "execution_count": null,
      "outputs": [
        {
          "output_type": "display_data",
          "data": {
            "text/plain": [
              "<Figure size 432x288 with 1 Axes>"
            ],
            "image/png": "[encoded data removed]"
          },
          "metadata": {
            "needs_background": "light"
          }
        }
      ]
    },
    {
      "cell_type": "code",
      "metadata": {
        "colab": {
          "base_uri": "https://localhost:8080/"
        },
        "id": "r5MezYtd_xm2",
        "outputId": "8281ea06-2aac-41fc-bf10-6145d2192171"
      },
      "source": [
        "print()\n",
        "print('Number of insances ',x_train.shape[0])\n",
        "print()\n",
        "print()\n",
        "print('Number of Features',x_train.shape[1])"
      ],
      "execution_count": null,
      "outputs": [
        {
          "output_type": "stream",
          "name": "stdout",
          "text": [
            "\n",
            "Number of insances  1002321\n",
            "\n",
            "\n",
            "Number of Features 64\n"
          ]
        }
      ]
    },
    {
      "cell_type": "code",
      "metadata": {
        "colab": {
          "base_uri": "https://localhost:8080/"
        },
        "id": "5IWdmviW11Bq",
        "outputId": "dd6b839a-263e-4ca9-9b38-01e17688d260"
      },
      "source": [
        "x_shape = x_train.shape[1]\n",
        "x_shape"
      ],
      "execution_count": null,
      "outputs": [
        {
          "output_type": "execute_result",
          "data": {
            "text/plain": [
              "64"
            ]
          },
          "metadata": {},
          "execution_count": 17
        }
      ]
    },
    {
      "cell_type": "code",
      "metadata": {
        "id": "GcOM-1TnoD13",
        "colab": {
          "base_uri": "https://localhost:8080/"
        },
        "outputId": "a37946d4-b1d8-401f-879e-6e8f7e6feee8"
      },
      "source": [
        "Inputs_1= tf.keras.Input(shape=(x_shape,), name='Inputs_1')\n",
        "#Inputs_2 = tf.keras.Input(shape=(input_shape2,), name='Inputs_2')\n",
        "#Inputs_3 = tf.keras.Input(shape=(input_shape3,), name='Inputs_3')\n",
        "\n",
        "\n",
        "\n",
        "#merge = tf.keras.layers.concatenate([Inputs_1,Inputs_3], name='merging')\n",
        "\n",
        "hidden1 = tf.keras.layers.Dense(512, activation='relu', name='Hidden-Layer-1')(Inputs_1)\n",
        "hidden2 = tf.keras.layers.Dense(512, activation='relu', name='Hidden-Layer-2')(hidden1)\n",
        "hidden3 = tf.keras.layers.Dense(512, activation='relu', name='Hidden-Layer-3')(hidden2)\n",
        "hidden4 = tf.keras.layers.Dense(512, activation='relu', name='Hidden-Layer-4')(hidden3)\n",
        "\n",
        "\n",
        "den = keras.layers.Dense(256, activation=\"relu\",name=\"Densel1\")(hidden4)\n",
        "classif = tf.keras.layers.Dense(17, activation='softmax', name='Output-Layer')(den)\n",
        "\n",
        "model = tf.keras.Model(inputs=[Inputs_1], outputs=classif)\n",
        "\n",
        "model.summary()\n",
        "#tf.keras.utils.plot_model(model, 'multi_input.png', show_shapes=True)"
      ],
      "execution_count": null,
      "outputs": [
        {
          "output_type": "stream",
          "name": "stdout",
          "text": [
            "Model: \"model\"\n",
            "_________________________________________________________________\n",
            " Layer (type)                Output Shape              Param #   \n",
            "=================================================================\n",
            " Inputs_1 (InputLayer)       [(None, 64)]              0         \n",
            "                                                                 \n",
            " Hidden-Layer-1 (Dense)      (None, 512)               33280     \n",
            "                                                                 \n",
            " Hidden-Layer-2 (Dense)      (None, 512)               262656    \n",
            "                                                                 \n",
            " Hidden-Layer-3 (Dense)      (None, 512)               262656    \n",
            "                                                                 \n",
            " Hidden-Layer-4 (Dense)      (None, 512)               262656    \n",
            "                                                                 \n",
            " Densel1 (Dense)             (None, 256)               131328    \n",
            "                                                                 \n",
            " Output-Layer (Dense)        (None, 17)                4369      \n",
            "                                                                 \n",
            "=================================================================\n",
            "Total params: 956,945\n",
            "Trainable params: 956,945\n",
            "Non-trainable params: 0\n",
            "_________________________________________________________________\n"
          ]
        }
      ]
    },
    {
      "cell_type": "code",
      "metadata": {
        "id": "nGKhj3mJ2X6F"
      },
      "source": [
        "# Checkpoint Path\n",
        "\n",
        "path=\"/content/drive/My Drive/Colab Notebooks/Save Models/FFN/Combined/Dataset[3]\"\n",
        "\n",
        "checkpoint_path = path+\"/weights_best_loss.hdf5\"\n",
        "\n",
        "\n",
        "\n",
        "mnn_callbacks = [tf.keras.callbacks.EarlyStopping(monitor='loss', patience=50, verbose=1),\n",
        "                tf.keras.callbacks.ReduceLROnPlateau(monitor=\"val_loss\", factor=0.5, patience=50, min_lr=0.0001),\n",
        "                tf.keras.callbacks.ModelCheckpoint(checkpoint_path, monitor='val_loss', save_best_only=True, verbose=1, mode=\"min\")]"
      ],
      "execution_count": null,
      "outputs": []
    },
    {
      "cell_type": "code",
      "metadata": {
        "colab": {
          "base_uri": "https://localhost:8080/"
        },
        "id": "VSmWRknfOqjs",
        "outputId": "6d9f4157-acb8-4c25-d234-5356f87e15bf"
      },
      "source": [
        "epochs = 5\n",
        "batch_size = 1024\n",
        "\n",
        "optz=keras.optimizers.Adam(learning_rate=0.0001)\n",
        "\n",
        "model.compile(optimizer=optz, loss=\"sparse_categorical_crossentropy\", metrics=[\"accuracy\"],)\n",
        "\n",
        "history = model.fit({'Inputs_1': x_train}, y_train, batch_size=batch_size, epochs=epochs, validation_split=0.2, shuffle=False, class_weight=class_weight, callbacks=mnn_callbacks)"
      ],
      "execution_count": null,
      "outputs": [
        {
          "output_type": "stream",
          "name": "stdout",
          "text": [
            "Epoch 1/5\n",
            "780/784 [============================>.] - ETA: 0s - loss: 0.2571 - accuracy: 0.9773\n",
            "Epoch 1: val_loss improved from inf to 0.01081, saving model to /content/drive/My Drive/Colab Notebooks/Save Models/FFN/Combined/Dataset[3]/weights_best_loss.hdf5\n",
            "784/784 [==============================] - 16s 18ms/step - loss: 0.2562 - accuracy: 0.9774 - val_loss: 0.0108 - val_accuracy: 0.9975 - lr: 1.0000e-04\n",
            "Epoch 2/5\n",
            "780/784 [============================>.] - ETA: 0s - loss: 0.0189 - accuracy: 0.9974\n",
            "Epoch 2: val_loss improved from 0.01081 to 0.00783, saving model to /content/drive/My Drive/Colab Notebooks/Save Models/FFN/Combined/Dataset[3]/weights_best_loss.hdf5\n",
            "784/784 [==============================] - 9s 11ms/step - loss: 0.0189 - accuracy: 0.9974 - val_loss: 0.0078 - val_accuracy: 0.9980 - lr: 1.0000e-04\n",
            "Epoch 3/5\n",
            "780/784 [============================>.] - ETA: 0s - loss: 0.0130 - accuracy: 0.9978\n",
            "Epoch 3: val_loss improved from 0.00783 to 0.00712, saving model to /content/drive/My Drive/Colab Notebooks/Save Models/FFN/Combined/Dataset[3]/weights_best_loss.hdf5\n",
            "784/784 [==============================] - 8s 11ms/step - loss: 0.0130 - accuracy: 0.9978 - val_loss: 0.0071 - val_accuracy: 0.9982 - lr: 1.0000e-04\n",
            "Epoch 4/5\n",
            "779/784 [============================>.] - ETA: 0s - loss: 0.0110 - accuracy: 0.9980\n",
            "Epoch 4: val_loss improved from 0.00712 to 0.00685, saving model to /content/drive/My Drive/Colab Notebooks/Save Models/FFN/Combined/Dataset[3]/weights_best_loss.hdf5\n",
            "784/784 [==============================] - 9s 11ms/step - loss: 0.0110 - accuracy: 0.9980 - val_loss: 0.0069 - val_accuracy: 0.9982 - lr: 1.0000e-04\n",
            "Epoch 5/5\n",
            "783/784 [============================>.] - ETA: 0s - loss: 0.0100 - accuracy: 0.9982\n",
            "Epoch 5: val_loss did not improve from 0.00685\n",
            "784/784 [==============================] - 9s 11ms/step - loss: 0.0100 - accuracy: 0.9982 - val_loss: 0.0098 - val_accuracy: 0.9981 - lr: 1.0000e-04\n"
          ]
        }
      ]
    },
    {
      "cell_type": "code",
      "metadata": {
        "id": "sTfZjI91eLrB",
        "colab": {
          "base_uri": "https://localhost:8080/"
        },
        "outputId": "0e3a6106-f53a-4bf6-db2e-41aa6ed72584"
      },
      "source": [
        "model.load_weights(checkpoint_path)\n",
        "\n",
        "test_loss, test_acc = model.evaluate(x_test, y_test,batch_size=256)\n",
        "print()\n",
        "print()\n",
        "print('Test Accuracy :', (round((test_acc*100),2)),'%          ','Test Loss :',round(test_loss,6))"
      ],
      "execution_count": null,
      "outputs": [
        {
          "output_type": "stream",
          "name": "stdout",
          "text": [
            "1678/1678 [==============================] - 8s 5ms/step - loss: 0.0060 - accuracy: 0.9984\n",
            "\n",
            "\n",
            "Test Accuracy : 99.84 %           Test Loss : 0.006031\n"
          ]
        }
      ]
    },
    {
      "cell_type": "code",
      "metadata": {
        "id": "NLbfoIPFs7Wi"
      },
      "source": [
        "y_pred=np.argmax(model.predict(x_test), axis=-1)"
      ],
      "execution_count": null,
      "outputs": []
    },
    {
      "cell_type": "code",
      "metadata": {
        "colab": {
          "base_uri": "https://localhost:8080/"
        },
        "id": "obsQ3z_BDh5N",
        "outputId": "6fdef841-9e5f-425b-f923-f3b345313516"
      },
      "source": [
        "n_classes = len(np.unique(y))\n",
        "print('Number of Classes',n_classes)"
      ],
      "execution_count": null,
      "outputs": [
        {
          "output_type": "stream",
          "name": "stdout",
          "text": [
            "Number of Classes 2\n"
          ]
        }
      ]
    },
    {
      "cell_type": "code",
      "metadata": {
        "colab": {
          "base_uri": "https://localhost:8080/"
        },
        "id": "wBIp7ArJU5gk",
        "outputId": "96234b90-5a80-4b62-a3af-a38c8b7b904e"
      },
      "source": [
        "n_classes"
      ],
      "execution_count": null,
      "outputs": [
        {
          "output_type": "execute_result",
          "data": {
            "text/plain": [
              "2"
            ]
          },
          "metadata": {},
          "execution_count": 24
        }
      ]
    },
    {
      "cell_type": "code",
      "metadata": {
        "id": "bCke6ZPjWeKe"
      },
      "source": [
        "np.savetxt(\"/content/drive/My Drive/Colab Notebooks/y_pred.csv\", y_pred, delimiter=\",\")\n",
        "np.savetxt(\"/content/drive/My Drive/Colab Notebooks/y_test.csv\", y_test, delimiter=\",\")\n"
      ],
      "execution_count": null,
      "outputs": []
    },
    {
      "cell_type": "code",
      "source": [
        "print(type(y_test))"
      ],
      "metadata": {
        "colab": {
          "base_uri": "https://localhost:8080/"
        },
        "id": "t0_rBxMYV1Bf",
        "outputId": "5c5b2359-c6db-49e5-8f1d-df61d3b19bd2"
      },
      "execution_count": null,
      "outputs": [
        {
          "output_type": "stream",
          "name": "stdout",
          "text": [
            "<class 'pandas.core.series.Series'>\n"
          ]
        }
      ]
    },
    {
      "cell_type": "code",
      "source": [
        "print(type(y_pred))"
      ],
      "metadata": {
        "colab": {
          "base_uri": "https://localhost:8080/"
        },
        "id": "wMh0gGJXWohO",
        "outputId": "c3f2f122-413a-42db-fa19-bd256e0144d2"
      },
      "execution_count": null,
      "outputs": [
        {
          "output_type": "stream",
          "name": "stdout",
          "text": [
            "<class 'numpy.ndarray'>\n"
          ]
        }
      ]
    },
    {
      "cell_type": "code",
      "source": [
        "y_test"
      ],
      "metadata": {
        "colab": {
          "base_uri": "https://localhost:8080/"
        },
        "id": "K-oNtmDnVQbP",
        "outputId": "b7d26742-c650-4e28-e5ef-a1bc47d5a6fb"
      },
      "execution_count": null,
      "outputs": [
        {
          "output_type": "execute_result",
          "data": {
            "text/plain": [
              "708760     1.0\n",
              "1283745    1.0\n",
              "484672     1.0\n",
              "848621     0.0\n",
              "155896     1.0\n",
              "          ... \n",
              "288467     1.0\n",
              "1317145    1.0\n",
              "940156     0.0\n",
              "90470      1.0\n",
              "224560     1.0\n",
              "Name: Label, Length: 429567, dtype: float64"
            ]
          },
          "metadata": {},
          "execution_count": 28
        }
      ]
    },
    {
      "cell_type": "code",
      "source": [
        "print(y_test)\n",
        "print(y_pred)"
      ],
      "metadata": {
        "colab": {
          "base_uri": "https://localhost:8080/"
        },
        "id": "sVjA8VnpSnJZ",
        "outputId": "34ca7518-af0c-46b2-d076-4fd73eb40226"
      },
      "execution_count": null,
      "outputs": [
        {
          "output_type": "stream",
          "name": "stdout",
          "text": [
            "708760     1.0\n",
            "1283745    1.0\n",
            "484672     1.0\n",
            "848621     0.0\n",
            "155896     1.0\n",
            "          ... \n",
            "288467     1.0\n",
            "1317145    1.0\n",
            "940156     0.0\n",
            "90470      1.0\n",
            "224560     1.0\n",
            "Name: Label, Length: 429567, dtype: float64\n",
            "[1 1 1 ... 0 1 1]\n"
          ]
        }
      ]
    },
    {
      "cell_type": "code",
      "source": [
        "print(type(y_test))"
      ],
      "metadata": {
        "colab": {
          "base_uri": "https://localhost:8080/"
        },
        "id": "Nfen4CgeCQfH",
        "outputId": "107f6314-a3ae-4d5d-e888-4b4b511781ce"
      },
      "execution_count": null,
      "outputs": [
        {
          "output_type": "stream",
          "name": "stdout",
          "text": [
            "<class 'pandas.core.series.Series'>\n"
          ]
        }
      ]
    },
    {
      "cell_type": "code",
      "source": [
        "y_test"
      ],
      "metadata": {
        "colab": {
          "base_uri": "https://localhost:8080/"
        },
        "id": "xB_fNVVEC-ED",
        "outputId": "79839ff9-def1-4062-d94e-0a759ab94576"
      },
      "execution_count": null,
      "outputs": [
        {
          "output_type": "execute_result",
          "data": {
            "text/plain": [
              "708760     1.0\n",
              "1283745    1.0\n",
              "484672     1.0\n",
              "848621     0.0\n",
              "155896     1.0\n",
              "          ... \n",
              "288467     1.0\n",
              "1317145    1.0\n",
              "940156     0.0\n",
              "90470      1.0\n",
              "224560     1.0\n",
              "Name: Label, Length: 429567, dtype: float64"
            ]
          },
          "metadata": {},
          "execution_count": 31
        }
      ]
    },
    {
      "cell_type": "code",
      "source": [
        "y_test1 = y_test.to_numpy()\n",
        "\n",
        "print(type(y_test))"
      ],
      "metadata": {
        "colab": {
          "base_uri": "https://localhost:8080/"
        },
        "id": "FlIffXWUCFmP",
        "outputId": "1ef460ae-e5da-4521-9aed-376e6dba27b6"
      },
      "execution_count": null,
      "outputs": [
        {
          "output_type": "stream",
          "name": "stdout",
          "text": [
            "<class 'pandas.core.series.Series'>\n"
          ]
        }
      ]
    },
    {
      "cell_type": "code",
      "source": [
        "import matplotlib.pyplot as plt\n",
        "from sklearn.metrics import roc_curve, auc\n",
        "fpr = dict()\n",
        "tpr = dict()\n",
        "roc_auc = dict()\n",
        "for i in range(2):\n",
        "    fpr[i], tpr[i], _ = roc_curve(y_test, y_pred)\n",
        "    roc_auc[i] = auc(fpr[i], tpr[i])\n",
        "\n",
        "#print roc_auc_score(y_test, y_pred)\n",
        "plt.figure()\n",
        "plt.plot(fpr[1], tpr[1])\n",
        "plt.xlim([0.0, 1.0])\n",
        "plt.ylim([0.0, 1.05])\n",
        "plt.xlabel('False Positive Rate')\n",
        "plt.ylabel('True Positive Rate')\n",
        "plt.title('Receiver operating characteristic')\n",
        "plt.show()"
      ],
      "metadata": {
        "colab": {
          "base_uri": "https://localhost:8080/",
          "height": 294
        },
        "id": "KukEVM7SBXH4",
        "outputId": "da80990e-2614-4fda-f9f3-9beb643b8a24"
      },
      "execution_count": null,
      "outputs": [
        {
          "output_type": "display_data",
          "data": {
            "text/plain": [
              "<Figure size 432x288 with 1 Axes>"
            ],
            "image/png": "[encoded data removed]"
          },
          "metadata": {
            "needs_background": "light"
          }
        }
      ]
    },
    {
      "cell_type": "code",
      "source": [
        "\n",
        "y_pred"
      ],
      "metadata": {
        "colab": {
          "base_uri": "https://localhost:8080/"
        },
        "id": "VGe0o-4aD75M",
        "outputId": "29d655a2-8329-4a0a-ef5d-90f201aaf493"
      },
      "execution_count": null,
      "outputs": [
        {
          "output_type": "execute_result",
          "data": {
            "text/plain": [
              "array([1, 1, 1, ..., 0, 1, 1])"
            ]
          },
          "metadata": {},
          "execution_count": 37
        }
      ]
    },
    {
      "cell_type": "code",
      "source": [
        ""
      ],
      "metadata": {
        "id": "Jjqd7QODD779"
      },
      "execution_count": null,
      "outputs": []
    },
    {
      "cell_type": "code",
      "source": [
        "import sklearn.metrics as metrics\n",
        "\n",
        "fpr, tpr, threshold = metrics.roc_curve(y_test, y_pred)\n",
        "roc_auc = metrics.auc(fpr, tpr)\n",
        "\n",
        "# method I: plt\n",
        "import matplotlib.pyplot as plt\n",
        "\n",
        "\n",
        "\n",
        "plt.figure(1)\n",
        "plt.figure(figsize=[16, 12]); \n",
        "\n",
        "\n",
        "\n",
        "#plt.title('Receiver Operating Characteristic')\n",
        "plt.plot(fpr, tpr, 'g', label = 'AUC NSLKDD = %0.4f' % roc_auc)\n",
        "plt.legend(loc = 'lower right')\n",
        "\n",
        "plt.plot(fpr, tpr, 'r', label = 'AUC  BoT-IoT= %0.4f' % roc_auc)\n",
        "plt.legend(loc = 'lower right')\n",
        "\n",
        "\n",
        "#plt.plot([0, 1], [0, 1],'b--', lw=2)\n",
        "plt.plot([0, 1], [0, 1], 'k--', lw=2)\n",
        "plt.xlim([-0.05, 1.05])\n",
        "plt.ylim([-0.05, 1.05])\n",
        "plt.xticks([0, 0.2, 0.4, 0.6, 0.8, 1.0], fontsize= 24)  \n",
        "plt.yticks([0, 0.2, 0.4, 0.6, 0.8, 1.0], fontsize= 24)\n",
        "\n",
        "plt.xlabel('False Positive Rate',fontsize=28)\n",
        "plt.ylabel('True Positive Rate',fontsize=28)\n",
        "plt.title('ROC Binary Classification',fontsize=30)\n",
        "plt.legend(loc=\"lower right\",fontsize=24)\n",
        "\n",
        "# Show the major grid lines with dark grey lines\n",
        "plt.grid(b=True, which='major', color='#666666', linestyle='-',alpha=0.4)\n",
        "# Show the minor grid lines with very faint and almost transparent grey lines\n",
        "plt.minorticks_on()\n",
        "plt.grid(b=True, which='minor', color='#999999', linestyle='-', alpha=0.1)\n",
        "\n",
        "\n",
        "#plt.savefig('/content/drive/My Drive/Colab Notebooks/Plot/plot1.pdf',dpi=200, papertype='letter', format='pdf', bbox='tight')\n",
        "#plt.savefig('/content/drive/My Drive/Colab Notebooks/Plot/plot1.jpeg',dpi=200, format='jpeg')\n",
        "#plt.savefig('/content/drive/My Drive/Colab Notebooks/Plot/plot1.png',dpi=200, format='png')\n",
        "\n",
        "plt.show()\n"
      ],
      "metadata": {
        "colab": {
          "base_uri": "https://localhost:8080/",
          "height": 792
        },
        "id": "sPAw66ZWD7-m",
        "outputId": "a172c372-18b9-40e2-8e2b-739c809f2963"
      },
      "execution_count": null,
      "outputs": [
        {
          "output_type": "display_data",
          "data": {
            "text/plain": [
              "<Figure size 432x288 with 0 Axes>"
            ]
          },
          "metadata": {}
        },
        {
          "output_type": "display_data",
          "data": {
            "text/plain": [
              "<Figure size 1152x864 with 1 Axes>"
            ],
            "image/png": "[encoded data removed]"
          },
          "metadata": {
            "needs_background": "light"
          }
        }
      ]
    },
    {
      "cell_type": "code",
      "source": [
        "from scipy import interp\n",
        "import matplotlib.pyplot as plt\n",
        "from itertools import cycle\n",
        "from sklearn.metrics import roc_curve, auc\n",
        "from sklearn.metrics import roc_auc_score\n",
        "from sklearn.preprocessing import label_binarize\n",
        "from sklearn.preprocessing import LabelBinarizer\n",
        "from sklearn.metrics import roc_curve, auc\n",
        "\n",
        "lb = LabelBinarizer()\n",
        "lb.fit(y_test)\n",
        "y_test1 = lb.transform(y_test)\n",
        "y_pred1 = lb.transform(y_pred)\n",
        "\n",
        "\n",
        "\n",
        "# Plot linewidth.\n",
        "lw = 8\n",
        "n_classes=2\n",
        "# Compute ROC curve and ROC area for each class\n",
        "fpr = dict()\n",
        "tpr = dict()\n",
        "roc_auc = dict()\n",
        "for i in range(n_classes):\n",
        "    fpr[i], tpr[i], _ = roc_curve(y_test1[:, i], y_pred1[:, i])\n",
        "    roc_auc[i] = auc(fpr[i], tpr[i])\n",
        "print(roc_auc)\n",
        "# Compute micro-average ROC curve and ROC area\n",
        "fpr[\"micro\"], tpr[\"micro\"], _ = roc_curve(y_test1.ravel(), y_pred1.ravel())\n",
        "roc_auc[\"micro\"] = auc(fpr[\"micro\"], tpr[\"micro\"])\n",
        "\n",
        "# Compute macro-average ROC curve and ROC area\n",
        "\n",
        "# First aggregate all false positive rates\n",
        "all_fpr = np.unique(np.concatenate([fpr[i] for i in range(n_classes)]))\n",
        "\n",
        "# Then interpolate all ROC curves at this points\n",
        "mean_tpr = np.zeros_like(all_fpr)\n",
        "for i in range(n_classes):\n",
        "    mean_tpr += interp(all_fpr, fpr[i], tpr[i])\n",
        "\n",
        "# Finally average it and compute AUC\n",
        "mean_tpr /= n_classes\n",
        "\n",
        "fpr[\"macro\"] = all_fpr\n",
        "tpr[\"macro\"] = mean_tpr\n",
        "roc_auc[\"macro\"] = auc(fpr[\"macro\"], tpr[\"macro\"])\n",
        "\n",
        "# Plot all ROC curves\n",
        "plt.figure(1)\n",
        "plt.figure(figsize=[16, 12]); # Set dimensions for figure\n",
        "#plt.plot(fpr[\"micro\"], tpr[\"micro\"],\n",
        "#         label='micro-average ROC curve (area = {0:0.2f})'\n",
        "#               ''.format(roc_auc[\"micro\"]),\n",
        "#         color='deeppink', linestyle=':', linewidth=4)\n",
        "\n",
        "#plt.plot(fpr[\"macro\"], tpr[\"macro\"],\n",
        "#         label='macro-average ROC curve (area = {0:0.2f})'\n",
        "#               ''.format(roc_auc[\"macro\"]),\n",
        "#         color='navy', linestyle=':', linewidth=4)\n",
        "\n",
        "colors = cycle(['#4472C4', '#ED7D31'])\n",
        "#classesname=cycle(['Normal','Attack','Mirai','FileDownload','HeartBeat','C&C','C&C-Torii','PortScan','DDoS','Okiru'])\n",
        "classesname=cycle(['Normal', 'Anomaly'])\n",
        "\n",
        "for i, color, classesname in zip(range(n_classes), colors, classesname):\n",
        "    plt.plot(fpr[i], tpr[i], color=color, lw=lw,\n",
        "             label='ROC curve of {0} (area = {1:0.4f})'\n",
        "             ''.format(classesname+' class', roc_auc[i]))\n",
        "    plt.plot(fontsize=25)\n",
        "\n",
        "\n",
        "plt.ylim(-0.03, 1.02)\n",
        "plt.xlim(-0.03, 1.02)\n",
        "plt.plot([0, 1], [0, 1], 'k--', lw=2)\n",
        "\n",
        "\n",
        "plt.xticks([0, 0.2, 0.4, 0.6, 0.8, 1.0], fontsize= 18)  \n",
        "plt.yticks([0, 0.2, 0.4, 0.6, 0.8, 1.0], fontsize= 18)\n",
        "\n",
        "\n",
        "plt.xlabel('False Positive Rate',fontsize=24)\n",
        "plt.ylabel('True Positive Rate',fontsize=24)\n",
        "plt.title('ROC multi-class classification',fontsize=22)\n",
        "plt.legend(loc=\"lower right\",fontsize=24)\n",
        "#plt.savefig('/content/drive/My Drive/Colab Notebooks/Plot/plot1.pdf',dpi=200, papertype='letter', format='pdf', bbox='tight')\n",
        "#plt.savefig('/content/drive/My Drive/Colab Notebooks/Plot/plot1.jpeg',dpi=200, format='jpeg')\n",
        "#plt.savefig('/content/drive/My Drive/Colab Notebooks/Plot/plot1.png',dpi=200, format='png')\n",
        "plt.show()"
      ],
      "metadata": {
        "colab": {
          "base_uri": "https://localhost:8080/",
          "height": 234
        },
        "id": "jMRc6aoloHqN",
        "outputId": "73a90bdb-59e6-4579-df0e-30c34870abac"
      },
      "execution_count": null,
      "outputs": [
        {
          "output_type": "error",
          "ename": "IndexError",
          "evalue": "ignored",
          "traceback": [
            "\u001b[0;31m---------------------------------------------------------------------------\u001b[0m",
            "\u001b[0;31mIndexError\u001b[0m                                Traceback (most recent call last)",
            "\u001b[0;32m<ipython-input-34-873979dd9bd6>\u001b[0m in \u001b[0;36m<module>\u001b[0;34m()\u001b[0m\n\u001b[1;32m     23\u001b[0m \u001b[0mroc_auc\u001b[0m \u001b[0;34m=\u001b[0m \u001b[0mdict\u001b[0m\u001b[0;34m(\u001b[0m\u001b[0;34m)\u001b[0m\u001b[0;34m\u001b[0m\u001b[0;34m\u001b[0m\u001b[0m\n\u001b[1;32m     24\u001b[0m \u001b[0;32mfor\u001b[0m \u001b[0mi\u001b[0m \u001b[0;32min\u001b[0m \u001b[0mrange\u001b[0m\u001b[0;34m(\u001b[0m\u001b[0mn_classes\u001b[0m\u001b[0;34m)\u001b[0m\u001b[0;34m:\u001b[0m\u001b[0;34m\u001b[0m\u001b[0;34m\u001b[0m\u001b[0m\n\u001b[0;32m---> 25\u001b[0;31m     \u001b[0mfpr\u001b[0m\u001b[0;34m[\u001b[0m\u001b[0mi\u001b[0m\u001b[0;34m]\u001b[0m\u001b[0;34m,\u001b[0m \u001b[0mtpr\u001b[0m\u001b[0;34m[\u001b[0m\u001b[0mi\u001b[0m\u001b[0;34m]\u001b[0m\u001b[0;34m,\u001b[0m \u001b[0m_\u001b[0m \u001b[0;34m=\u001b[0m \u001b[0mroc_curve\u001b[0m\u001b[0;34m(\u001b[0m\u001b[0my_test1\u001b[0m\u001b[0;34m[\u001b[0m\u001b[0;34m:\u001b[0m\u001b[0;34m,\u001b[0m \u001b[0mi\u001b[0m\u001b[0;34m]\u001b[0m\u001b[0;34m,\u001b[0m \u001b[0my_pred1\u001b[0m\u001b[0;34m[\u001b[0m\u001b[0;34m:\u001b[0m\u001b[0;34m,\u001b[0m \u001b[0mi\u001b[0m\u001b[0;34m]\u001b[0m\u001b[0;34m)\u001b[0m\u001b[0;34m\u001b[0m\u001b[0;34m\u001b[0m\u001b[0m\n\u001b[0m\u001b[1;32m     26\u001b[0m     \u001b[0mroc_auc\u001b[0m\u001b[0;34m[\u001b[0m\u001b[0mi\u001b[0m\u001b[0;34m]\u001b[0m \u001b[0;34m=\u001b[0m \u001b[0mauc\u001b[0m\u001b[0;34m(\u001b[0m\u001b[0mfpr\u001b[0m\u001b[0;34m[\u001b[0m\u001b[0mi\u001b[0m\u001b[0;34m]\u001b[0m\u001b[0;34m,\u001b[0m \u001b[0mtpr\u001b[0m\u001b[0;34m[\u001b[0m\u001b[0mi\u001b[0m\u001b[0;34m]\u001b[0m\u001b[0;34m)\u001b[0m\u001b[0;34m\u001b[0m\u001b[0;34m\u001b[0m\u001b[0m\n\u001b[1;32m     27\u001b[0m \u001b[0mprint\u001b[0m\u001b[0;34m(\u001b[0m\u001b[0mroc_auc\u001b[0m\u001b[0;34m)\u001b[0m\u001b[0;34m\u001b[0m\u001b[0;34m\u001b[0m\u001b[0m\n",
            "\u001b[0;31mIndexError\u001b[0m: index 1 is out of bounds for axis 1 with size 1"
          ]
        }
      ]
    },
    {
      "cell_type": "code",
      "metadata": {
        "id": "YkqZBgs0iQ-A"
      },
      "source": [
        "from sklearn.metrics import roc_auc_score\n",
        "from sklearn.preprocessing import label_binarize\n",
        "from sklearn.preprocessing import LabelBinarizer\n",
        "\n",
        "\n",
        "lb = LabelBinarizer()\n",
        "lb.fit(y_test)\n",
        "y_test = lb.transform(y_test)\n",
        "y_pred = lb.transform(y_pred)\n",
        "\n",
        "\n",
        "n_classes = 17\n",
        "from sklearn.metrics import roc_curve, auc\n",
        "\n",
        "\n",
        "# Compute ROC curve and ROC area for each class\n",
        "fpr = dict()\n",
        "tpr = dict()\n",
        "roc_auc = dict()\n",
        "for i in range(n_classes):\n",
        "    fpr[i], tpr[i], _ = roc_curve(y_test[:, i], y_pred[:, i])\n",
        "    roc_auc[i] = auc(fpr[i], tpr[i])\n",
        "\n",
        "\n",
        "\n",
        "# Plot of a ROC curve for a specific class\n",
        "for i in range(n_classes):\n",
        "    plt.figure()\n",
        "    plt.figure(figsize=[10, 10], dpi=80); # Set dimensions for figure\n",
        "    #plt.plot(fpr[i], tpr[i], label='ROC curve (area = (%0.2f)' % round((roc_auc[i]*100),2)+' %)')\n",
        "    plt.plot(fpr[i], tpr[i], label='ROC curve (Area = %0.2f' % round((roc_auc[i]*100),2)+' %)')\n",
        "    plt.plot([0, 1], [0, 1], 'k--')\n",
        "    plt.xticks([0.1, 0.2, 0.3, 0.4, 0.5, 0.6, 0.7, 0.8, 0.9, 1], fontsize= 12)\n",
        "    plt.yticks([0.1, 0.2, 0.3, 0.4, 0.5, 0.6, 0.7, 0.8, 0.9, 1 ], fontsize= 12)\n",
        "    plt.xlim([0.0, 1.0])\n",
        "    plt.ylim([0.0, 1.05])\n",
        "    plt.xlabel('False Positive Rate', fontsize=14)\n",
        "    plt.ylabel('True Positive Rate',fontsize=14)\n",
        "    #plt.title('Receiver Operating Characteristic : '+str(i))\n",
        "    # Show the major grid lines with dark grey lines\n",
        "    plt.grid(b=True, which='major', color='#666666', linestyle='-',alpha=0.4)\n",
        "    # Show the minor grid lines with very faint and almost transparent grey lines\n",
        "    plt.minorticks_on()\n",
        "    plt.grid(b=True, which='minor', color='#999999', linestyle='-', alpha=0.1)\n",
        "\n",
        "    plt.title('ROC for Class : '+str(i))\n",
        "    plt.legend(fontsize= 12, loc=\"lower right\")\n",
        "    \n",
        "    plt.show()"
      ],
      "execution_count": null,
      "outputs": []
    },
    {
      "cell_type": "code",
      "metadata": {
        "id": "wDH08-MviRA1"
      },
      "source": [
        ""
      ],
      "execution_count": null,
      "outputs": []
    },
    {
      "cell_type": "code",
      "metadata": {
        "id": "TiIer4ABiRDt"
      },
      "source": [
        ""
      ],
      "execution_count": null,
      "outputs": []
    },
    {
      "cell_type": "code",
      "metadata": {
        "id": "m_X_QSfes7ZA"
      },
      "source": [
        "#       Classification Report (Precision, Recall, F1-score)\n",
        "\n",
        "print()\n",
        "print()\n",
        "print(' -------Classification Report (Precision, Recall, F1-score)------')\n",
        "print()\n",
        "#Dataset 3 Classes \n",
        "\n",
        "#classes =['Normal','Attack','Mirai','FileDownload','HeartBeat','C&C','C&C-Torii','PortScan','DDoS','Okiru']\n",
        "\n",
        "#Dataset 1,2 and 4 Classes \n",
        "#classes =['Normal','DDoS','DoS','MITM ARP Spoofing','MQQT_bruteforce','Mirai','Reconnaissance','Scan','Sparta','Theft']\n",
        "\n",
        "#classes =['Normal', 'DDoS', 'DoS', 'MITM', 'Mirai', 'MQQT_bruteforce', 'Reconnaissance', 'Scan', 'Sparta', 'Theft','Attack', 'C&C', 'FileDownload', 'HeartBeat', 'Okiru', 'PortScan', 'Torii']\n",
        "\n",
        "#report = classification_report(y_test, y_pred,digits=4,target_names=classes)\n",
        "report = classification_report(y_test, y_pred,digits=4)\n",
        "print(report)"
      ],
      "execution_count": null,
      "outputs": []
    },
    {
      "cell_type": "code",
      "metadata": {
        "id": "ZtAs5mQo74Wh"
      },
      "source": [
        "# Return the indices of maximum values along an axis (matching classes)\n",
        "print()\n",
        "print()\n",
        "print('    ------------------------Confusion Matrix------------------------')\n",
        "print()\n",
        "print()\n",
        "cnf_matrix = confusion_matrix(y_test, y_pred) \n",
        "np.savetxt(path+'/cnf_matrix.csv', cnf_matrix, fmt=\"%d\", delimiter=\",\")\n",
        "print(cnf_matrix)\n",
        "print()\n",
        "print()\n",
        "print()\n",
        "print()"
      ],
      "execution_count": null,
      "outputs": []
    },
    {
      "cell_type": "code",
      "metadata": {
        "id": "e9ZAzkwc74cM"
      },
      "source": [
        "def plot_confusion_matrix(y_true, y_pred, classes, normalize=True, title=None, cmap=plt.cm.Blues):\n",
        "    if not title:\n",
        "        if normalize:\n",
        "            title = 'Normalized Confusion Matrix'\n",
        "        else:\n",
        "            title = 'Confusion Matrix, without Normalization'\n",
        "    # Compute Confusion Matrix\n",
        "    cnf = confusion_matrix(y_true, y_pred)\n",
        "\n",
        "\n",
        "    # Labels appear in the data\n",
        "    classes = classes\n",
        "    if normalize:\n",
        "        cnf = cnf.astype('float') / cnf.sum(axis=1)[:, np.newaxis]\n",
        "        print(\"Normalized Confusion Matrix\")\n",
        "    else:\n",
        "        print('Confusion Matrix, without Normalization')\n",
        "\n",
        "    #print(cnf)\n",
        "\n",
        "    fig, ax = plt.subplots()\n",
        "    fig.set_size_inches(12, 12)\n",
        "    im = ax.imshow(cnf, interpolation='nearest', cmap=cmap)\n",
        "    ax.figure.colorbar(im, ax=ax)\n",
        "    # We want to show all ticks...\n",
        "    ax.set(xticks=np.arange(cnf.shape[1]),\n",
        "           yticks=np.arange(cnf.shape[0]),\n",
        "           # ... and label them with the respective list entries\n",
        "           xticklabels=classes, yticklabels=classes,\n",
        "           title=title,\n",
        "           ylabel='True Label',\n",
        "           xlabel='Predicted Label')\n",
        "\n",
        "    # Rotate the tick labels and set their alignment.\n",
        "    plt.setp(ax.get_xticklabels(), rotation=45, ha=\"right\",\n",
        "             rotation_mode=\"anchor\")\n",
        "\n",
        "    # Loop over data dimensions and create text annotations.\n",
        "    fmt = '.2f' if normalize else 'd'\n",
        "    thresh = cnf.max() / 2.\n",
        "    for i in range(cnf.shape[0]):\n",
        "        for j in range(cnf.shape[1]):\n",
        "            ax.text(j, i, format(cnf[i, j], fmt),\n",
        "                    ha=\"center\", va=\"center\",\n",
        "                    color=\"white\" if cnf[i, j] > thresh else \"black\")\n",
        "    fig.tight_layout()\n",
        "\n",
        "    return ax\n"
      ],
      "execution_count": null,
      "outputs": []
    },
    {
      "cell_type": "code",
      "metadata": {
        "id": "5V8bITAI74e5"
      },
      "source": [
        " plot_confusion_matrix(y_test, y_pred, classes =classes,title='Confusion Matrix, Normalization')"
      ],
      "execution_count": null,
      "outputs": []
    },
    {
      "cell_type": "code",
      "metadata": {
        "id": "XGzeSLRN74hp"
      },
      "source": [
        "model.save(path)\n",
        "print()\n",
        "print()\n",
        "print('Model Saved')"
      ],
      "execution_count": null,
      "outputs": []
    },
    {
      "cell_type": "code",
      "metadata": {
        "id": "wjJA_3VM9Ns8"
      },
      "source": [
        "x_test.shape"
      ],
      "execution_count": null,
      "outputs": []
    },
    {
      "cell_type": "code",
      "metadata": {
        "id": "sbsJbv3QRSMs"
      },
      "source": [
        "# Saving Testing data and Traing Accuracy and Validation Accuracy \n",
        "# Saving Training loss and validation loos\n",
        "\n",
        "import pyarrow as pa\n",
        "import pyarrow.csv\n",
        "import urllib.request\n",
        "import pyarrow.parquet as pq\n",
        "\n",
        "\n",
        "df1 = pd.DataFrame(x_test)\n",
        "table = pa.Table.from_pandas(df1)\n",
        "pq.write_table(table, path+'/x_test.parquet')\n",
        "\n",
        "df2 = pd.DataFrame(y_test)\n",
        "table = pa.Table.from_pandas(df2)\n",
        "pq.write_table(table, path+'/y_test.parquet')\n",
        "\n",
        "\n",
        "print('Test Data Saved Now Saving Model Loss and Accuracy')\n",
        "\n",
        "Accuracy_T=history.history['accuracy']\n",
        "Accuracy_V=history.history['val_accuracy']\n",
        "np.savetxt(path+\"/accuracy_T.csv\", Accuracy_T, delimiter=\",\")\n",
        "np.savetxt(path+\"/accuracy_V.csv\", Accuracy_V, delimiter=\",\")\n",
        "\n",
        "\n",
        "Loss_T=history.history['loss']\n",
        "Loss_V=history.history['val_loss']\n",
        "np.savetxt(path+\"/loss_T.csv\", Loss_T, delimiter=\",\")\n",
        "np.savetxt(path+\"/loss_V.csv\", Loss_V, delimiter=\",\")\n",
        "\n",
        "print('.')\n",
        "print('.')\n",
        "print('.')\n",
        "print('Completed')"
      ],
      "execution_count": null,
      "outputs": []
    },
    {
      "cell_type": "code",
      "metadata": {
        "id": "ixBqoXJl74nM"
      },
      "source": [
        ""
      ],
      "execution_count": null,
      "outputs": []
    }
  ]
}